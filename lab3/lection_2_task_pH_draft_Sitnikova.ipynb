{
 "cells": [
  {
   "cell_type": "markdown",
   "metadata": {},
   "source": [
    "Номер группы, ФИО:"
   ]
  },
  {
   "cell_type": "code",
   "execution_count": 1,
   "metadata": {},
   "outputs": [],
   "source": [
    "from sklearn.model_selection import train_test_split\n",
    "from sklearn.neighbors import KNeighborsClassifier\n",
    "from sklearn.naive_bayes import GaussianNB\n",
    "from sklearn.tree import DecisionTreeClassifier\n",
    "from sklearn.metrics import accuracy_score\n",
    "import pandas as pd\n",
    "import numpy as np"
   ]
  },
  {
   "cell_type": "markdown",
   "metadata": {},
   "source": [
    "Считываем данные из файла 'ph-data.csv'. Первые три столбца будут выступать в качестве матрицы признаков объектов - создать из них новый объект X. Целевая переменная хранится в столбце с названием label - из нее создать новый объект y. Заменить все значения y, меньшие 6 (кислотная среда) на -1, большие 9 (щелочная среда) на 1, 6-9 на 0."
   ]
  },
  {
   "cell_type": "code",
   "execution_count": 2,
   "metadata": {},
   "outputs": [
    {
     "data": {
      "text/html": [
       "<div>\n",
       "<style scoped>\n",
       "    .dataframe tbody tr th:only-of-type {\n",
       "        vertical-align: middle;\n",
       "    }\n",
       "\n",
       "    .dataframe tbody tr th {\n",
       "        vertical-align: top;\n",
       "    }\n",
       "\n",
       "    .dataframe thead th {\n",
       "        text-align: right;\n",
       "    }\n",
       "</style>\n",
       "<table border=\"1\" class=\"dataframe\">\n",
       "  <thead>\n",
       "    <tr style=\"text-align: right;\">\n",
       "      <th></th>\n",
       "      <th>red</th>\n",
       "      <th>green</th>\n",
       "      <th>blue</th>\n",
       "      <th>label</th>\n",
       "    </tr>\n",
       "  </thead>\n",
       "  <tbody>\n",
       "    <tr>\n",
       "      <th>0</th>\n",
       "      <td>231</td>\n",
       "      <td>27</td>\n",
       "      <td>36</td>\n",
       "      <td>0</td>\n",
       "    </tr>\n",
       "    <tr>\n",
       "      <th>1</th>\n",
       "      <td>250</td>\n",
       "      <td>84</td>\n",
       "      <td>36</td>\n",
       "      <td>1</td>\n",
       "    </tr>\n",
       "    <tr>\n",
       "      <th>2</th>\n",
       "      <td>255</td>\n",
       "      <td>164</td>\n",
       "      <td>37</td>\n",
       "      <td>2</td>\n",
       "    </tr>\n",
       "  </tbody>\n",
       "</table>\n",
       "</div>"
      ],
      "text/plain": [
       "   red  green  blue  label\n",
       "0  231     27    36      0\n",
       "1  250     84    36      1\n",
       "2  255    164    37      2"
      ]
     },
     "execution_count": 2,
     "metadata": {},
     "output_type": "execute_result"
    }
   ],
   "source": [
    "df=pd.read_csv('ph-data.csv')\n",
    "df = df[['red','green','blue','label']]\n",
    "df.head(3)"
   ]
  },
  {
   "cell_type": "markdown",
   "metadata": {},
   "source": [
    "Разбить данные на тренировочные и тестовые в соотношении 7/3. Зафиксировать random_state=5"
   ]
  },
  {
   "cell_type": "code",
   "execution_count": 3,
   "metadata": {},
   "outputs": [
    {
     "data": {
      "text/plain": [
       "array([[231,  27,  36],\n",
       "       [250,  84,  36],\n",
       "       [255, 164,  37]], dtype=int64)"
      ]
     },
     "execution_count": 3,
     "metadata": {},
     "output_type": "execute_result"
    }
   ],
   "source": [
    "X = df.iloc[:,0:3].values\n",
    "X[0:3]\n",
    "\n"
   ]
  },
  {
   "cell_type": "code",
   "execution_count": 4,
   "metadata": {},
   "outputs": [
    {
     "data": {
      "text/plain": [
       "array([0, 1, 2, 3, 4], dtype=int64)"
      ]
     },
     "execution_count": 4,
     "metadata": {},
     "output_type": "execute_result"
    }
   ],
   "source": [
    "y=df[['label']].values.ravel()\n",
    "#y.head(3)\n",
    "y[0:5]"
   ]
  },
  {
   "cell_type": "code",
   "execution_count": 5,
   "metadata": {},
   "outputs": [],
   "source": [
    "y[y<6] = -1\n",
    "y[y>9] = 1\n",
    "y[[6<=yi<=9 for yi in y]] = 0\n",
    "#y[0:30]\n"
   ]
  },
  {
   "cell_type": "code",
   "execution_count": 6,
   "metadata": {},
   "outputs": [
    {
     "name": "stdout",
     "output_type": "stream",
     "text": [
      "[ 0 -1  0 -1  0 -1  0  0  1  0]\n",
      "437\n"
     ]
    }
   ],
   "source": [
    "X_train, X_test, y_train, y_test =\\\n",
    "train_test_split(X, y, test_size=0.33, random_state=5)\n",
    "print(y_train[:10])\n",
    "print(len(y_train))"
   ]
  },
  {
   "cell_type": "markdown",
   "metadata": {},
   "source": [
    "Создать и обучить поочередно классификаторы KNeighborsClassifier, GaussianNB, DecisionTreeClassifier. Обучить их на тренировочной выборке, оценить точность на проверочной. Попробовать изменить параметры в конструкторе n_neighbors у ближайших соседей, max_depth у дерева. Посмотреть как изменится точность предсказаний (и изменится ли)."
   ]
  },
  {
   "cell_type": "code",
   "execution_count": 7,
   "metadata": {},
   "outputs": [
    {
     "name": "stdout",
     "output_type": "stream",
     "text": [
      "[-1  0  1  0 -1 -1  1  0  1  0  1  1 -1  1 -1  1  1  1 -1 -1  1 -1  1  1\n",
      "  1  0  0 -1  1  1 -1 -1 -1  1  1  1  0 -1  1  1 -1 -1 -1  0  1  1  0  1\n",
      "  1 -1  0 -1  1  0 -1  1 -1 -1 -1 -1  1  1 -1  1  1 -1  0 -1  1 -1  0  0\n",
      "  1 -1  1 -1 -1 -1  1  0  0  0  1  0  0  0 -1  0  1  0 -1  0  0  1  1 -1\n",
      "  1 -1  0  1 -1  0  1 -1  1  0  0  1 -1  1  0  1  1  1  1 -1 -1  1  1 -1\n",
      " -1  0 -1 -1 -1 -1 -1  1  1 -1 -1  1 -1  0 -1 -1 -1  0  1 -1  0 -1 -1  0\n",
      "  0 -1 -1  1 -1 -1  0 -1  1 -1  1  0  0 -1 -1  1 -1 -1  1 -1  1 -1  0  1\n",
      "  1 -1  1 -1 -1 -1  0  1  1 -1  0  0  1  0 -1  1 -1 -1 -1 -1  0 -1  0 -1\n",
      "  0  1  1 -1  1 -1  0  1  1  1  1 -1  0  1  1 -1 -1 -1 -1 -1  0  0  0  1]\n"
     ]
    },
    {
     "data": {
      "text/plain": [
       "0.9537037037037037"
      ]
     },
     "execution_count": 7,
     "metadata": {},
     "output_type": "execute_result"
    }
   ],
   "source": [
    "clr = KNeighborsClassifier(n_neighbors=4)#Конструктор классификатора\n",
    "clr.fit(X_train, y_train)#Передаём данные - объекты и их классы\n",
    "y_pred = clr.predict(X_test)\n",
    "print(y_pred)\n",
    "\n",
    "accuracy_score(y_test, y_pred)\n"
   ]
  },
  {
   "cell_type": "code",
   "execution_count": 8,
   "metadata": {},
   "outputs": [
    {
     "name": "stdout",
     "output_type": "stream",
     "text": [
      "[-1  0  1  0 -1 -1  1  0  1  0  1  1 -1  1 -1  1  1  1 -1 -1  1 -1  1  1\n",
      "  1  0  0 -1  1  1 -1 -1 -1  1  1  1  0 -1  1  1 -1 -1 -1  0  1  1  0  1\n",
      "  1 -1  0  0  1  0 -1  1 -1 -1 -1 -1  1  1  0  1  1 -1  0 -1  1 -1  0  0\n",
      "  1 -1  1 -1 -1  0  1  0  0  0  1  0  0  0 -1  0  1  0 -1  0  0  1  1 -1\n",
      "  1 -1  0  1 -1  0  1 -1  1  0  0  1 -1  1  0  1  1  1  1 -1 -1  1  1 -1\n",
      " -1  0  0  0  0 -1 -1  1  1 -1  0  1  0  0 -1 -1 -1  0  1  1  0 -1 -1  0\n",
      "  0  0 -1  1 -1 -1  1 -1  1 -1  1  0  0 -1 -1  1 -1 -1  1 -1  1  0  0  1\n",
      "  1  0  1 -1 -1 -1  0  1  1 -1  0  0  1  0 -1  0 -1 -1 -1 -1  0  0  0 -1\n",
      "  0  1  1  0  1 -1  0  1  1  1  1 -1  0  1  1 -1 -1 -1 -1 -1  0  0  0  1]\n"
     ]
    },
    {
     "data": {
      "text/plain": [
       "0.9351851851851852"
      ]
     },
     "execution_count": 8,
     "metadata": {},
     "output_type": "execute_result"
    }
   ],
   "source": [
    "clr = GaussianNB()\n",
    "clr.fit(X_train, y_train)\n",
    "y_pred = clr.predict(X_test)\n",
    "print(y_pred)\n",
    "accuracy_score(y_test, y_pred)"
   ]
  },
  {
   "cell_type": "code",
   "execution_count": 9,
   "metadata": {},
   "outputs": [
    {
     "name": "stdout",
     "output_type": "stream",
     "text": [
      "[ 0  0  1  0 -1 -1  1  0  1  0  1  1 -1  1 -1  1  1  1 -1 -1  1 -1  1  1\n",
      "  1  0  0 -1  1  1 -1 -1 -1  1  1  1  0 -1  1  1 -1 -1 -1  0  1  1  0  1\n",
      "  1 -1  0  0  1  0  0  1 -1 -1 -1 -1  1  1 -1  1  1 -1  0 -1  1 -1  1  0\n",
      "  1 -1  1 -1 -1 -1  1  0  0  0  1  0  0  0 -1  0  1  0 -1  0  0  1  1 -1\n",
      "  1 -1  0  1 -1  0  1 -1  1  0  0  1 -1  1  0  1  1  1  1 -1 -1  1  1 -1\n",
      " -1  0 -1 -1 -1 -1 -1  1  1 -1 -1  1 -1  0 -1 -1 -1  0  1  1  0 -1 -1  0\n",
      "  0 -1 -1  1 -1 -1  1 -1  1 -1  1  0  0 -1 -1  1 -1 -1  1 -1  1 -1  0  1\n",
      "  1 -1  1 -1 -1 -1  0  1  1 -1  0  0  1  0 -1  0 -1 -1 -1 -1  0 -1  0 -1\n",
      "  0  1  1  0  1 -1  0  1  1  1  1 -1  0  1  1 -1 -1 -1 -1 -1  0  0  0  1]\n"
     ]
    },
    {
     "data": {
      "text/plain": [
       "0.9537037037037037"
      ]
     },
     "execution_count": 9,
     "metadata": {},
     "output_type": "execute_result"
    }
   ],
   "source": [
    "clr = DecisionTreeClassifier(max_depth=3)\n",
    "clr.fit(X_train, y_train)\n",
    "y_pred = clr.predict(X_test)\n",
    "print(y_pred)\n",
    "accuracy_score(y_test, y_pred)"
   ]
  },
  {
   "cell_type": "markdown",
   "metadata": {},
   "source": [
    "Выбрать из просмотренных классификаторов тот классификатор и тот параметр конструктора, который показал большую точность. Обучить его на полной выборке X, y."
   ]
  },
  {
   "cell_type": "code",
   "execution_count": 10,
   "metadata": {},
   "outputs": [
    {
     "data": {
      "text/plain": [
       "KNeighborsClassifier(n_neighbors=4)"
      ]
     },
     "execution_count": 10,
     "metadata": {},
     "output_type": "execute_result"
    }
   ],
   "source": [
    "#clr = DecisionTreeClassifier(max_depth=3)\n",
    "#clr.fit(X, y)\n",
    "clr = KNeighborsClassifier(n_neighbors=4)#Конструктор классификатора\n",
    "clr.fit(X_train, y_train)#Передаём данные - объекты и их классы"
   ]
  },
  {
   "cell_type": "markdown",
   "metadata": {},
   "source": [
    "Проверить, какой результат вернет классификатор для следующих объектов, заданных в формате RGB:\n",
    "\n",
    "<br>\n",
    "<code style=\"background:rgb(255, 38, 0);color:white\">[255, 38, 0]</code>\n",
    "<br>\n",
    "<code style=\"background:rgb(255, 124, 0);color:white\">[255, 124, 0]</code>\n",
    "<br>\n",
    "<code style=\"background:rgb(141, 250, 0);color:black\">[141, 250, 0]</code>\n",
    "<br>\n",
    "<code style=\"background:rgb(179, 68, 198);color:white\">[179, 68, 198]</code>\n",
    "<br>\n",
    "<code style=\"background:rgb(111, 43, 142);color:white\">[111, 43, 142]</code>"
   ]
  },
  {
   "cell_type": "code",
   "execution_count": 11,
   "metadata": {},
   "outputs": [],
   "source": [
    "X_new = [[255, 38, 0],[255, 124, 0],[141, 250, 0],[179, 68, 198],[111, 43, 142]]"
   ]
  },
  {
   "cell_type": "code",
   "execution_count": 12,
   "metadata": {},
   "outputs": [
    {
     "name": "stdout",
     "output_type": "stream",
     "text": [
      "[-1 -1  0  1  1]\n"
     ]
    }
   ],
   "source": [
    "y_pred = clr.predict(X_new)\n",
    "print(y_pred)\n"
   ]
  },
  {
   "cell_type": "code",
   "execution_count": 13,
   "metadata": {},
   "outputs": [
    {
     "data": {
      "text/plain": [
       "['olya_model.mdl']"
      ]
     },
     "execution_count": 13,
     "metadata": {},
     "output_type": "execute_result"
    }
   ],
   "source": [
    "from joblib import dump\n",
    "dump(clr,'olya_model.mdl')\n"
   ]
  },
  {
   "cell_type": "code",
   "execution_count": 15,
   "metadata": {},
   "outputs": [],
   "source": [
    "from joblib import load\n",
    "clf=load('olya_model.mdl')\n"
   ]
  },
  {
   "cell_type": "code",
   "execution_count": null,
   "metadata": {},
   "outputs": [],
   "source": []
  }
 ],
 "metadata": {
  "kernelspec": {
   "display_name": "Python 3",
   "language": "python",
   "name": "python3"
  },
  "language_info": {
   "codemirror_mode": {
    "name": "ipython",
    "version": 3
   },
   "file_extension": ".py",
   "mimetype": "text/x-python",
   "name": "python",
   "nbconvert_exporter": "python",
   "pygments_lexer": "ipython3",
   "version": "3.8.5"
  }
 },
 "nbformat": 4,
 "nbformat_minor": 2
}
