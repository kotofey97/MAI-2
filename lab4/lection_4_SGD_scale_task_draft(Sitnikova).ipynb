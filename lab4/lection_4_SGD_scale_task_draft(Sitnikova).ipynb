{
 "cells": [
  {
   "cell_type": "markdown",
   "metadata": {},
   "source": [
    "Номер группы, ФИО: Ситникова Ольга"
   ]
  },
  {
   "cell_type": "code",
   "execution_count": 1,
   "metadata": {},
   "outputs": [],
   "source": [
    "import numpy as np\n",
    "import pandas as p\n",
    "from sklearn.preprocessing import StandardScaler, MinMaxScaler\n",
    "from sklearn.linear_model import Perceptron\n",
    "from sklearn.neighbors import KNeighborsClassifier\n",
    "from sklearn.tree import DecisionTreeClassifier\n",
    "from sklearn.linear_model import LogisticRegression\n",
    "from sklearn import metrics\n",
    "from sklearn.datasets import load_wine\n",
    "from sklearn.model_selection import train_test_split\n",
    "from sklearn.pipeline import Pipeline\n",
    "from sklearn.metrics import accuracy_score"
   ]
  },
  {
   "cell_type": "markdown",
   "metadata": {},
   "source": [
    "Загрузить данные load_wine. (параметр return_X_y=True позволит вернуть данные в виде объекта tuple X, y). Разбить данные на тренировочные и проверочные в соотношении 7/3. Зафиксировать random_state=5."
   ]
  },
  {
   "cell_type": "code",
   "execution_count": 2,
   "metadata": {},
   "outputs": [],
   "source": [
    "wine = load_wine(return_X_y=True)\n",
    "X_train, X_test, y_train, y_test = train_test_split(wine[0], wine[1], test_size=0.3,random_state=5)"
   ]
  },
  {
   "cell_type": "markdown",
   "metadata": {},
   "source": [
    "## Сравнение результатов работы алгоритмов после применения MinMaxScaler и StandardScaler"
   ]
  },
  {
   "cell_type": "code",
   "execution_count": 3,
   "metadata": {},
   "outputs": [],
   "source": [
    "np.set_printoptions(suppress=True)#не отображать числа с плавающей точкой как e+00, \n",
    "#отображать как 0.0012345"
   ]
  },
  {
   "cell_type": "markdown",
   "metadata": {},
   "source": [
    "* Сделать массив классификаторов `[Perceptron, LogisticRegression, KNeighborsClassifier(n_neighbors=7), DecisionTreeClassifier(max_depth=3)]` \n",
    "\n",
    "* Создать масштабирующие классы `StandatdScaler` и `MinMaxScaler`. \n",
    "\n",
    "* Отмасштабировать тренировочные (`fit_transform()`) и тестовые (`transform()`) признаки и тем и другим классом.\n",
    "\n",
    "* Поочередно оценить точность прогнозов на немсаштабированных данных, данных после `MinMaxScaler`, после `StandardScaler` для алгоритмов из массива.\n",
    "\n",
    "* Отобразить точность для каждого случая (название класса можно вывести как `clfr.__class__.__name__`)"
   ]
  },
  {
   "cell_type": "code",
   "execution_count": 4,
   "metadata": {},
   "outputs": [],
   "source": [
    "#1\n",
    "MC=[Perceptron(max_iter=1000), LogisticRegression(), KNeighborsClassifier(n_neighbors=7), DecisionTreeClassifier(max_depth=3)]\n",
    "#2\n",
    "minmaxscaler = MinMaxScaler()\n",
    "scaler = StandardScaler()\n",
    "#3\n",
    "minmaxscaled_X_train = p.DataFrame(minmaxscaler.fit_transform(X_train))\n",
    "minmaxscaled_X_test=p.DataFrame(minmaxscaler.transform(X_test))\n",
    "\n",
    "scaled_X_train = p.DataFrame(scaler.fit_transform(X_train))\n",
    "scaled_X_test = p.DataFrame(scaler.transform(X_test))\n",
    "\n"
   ]
  },
  {
   "cell_type": "code",
   "execution_count": 5,
   "metadata": {},
   "outputs": [
    {
     "name": "stdout",
     "output_type": "stream",
     "text": [
      "Классификатор:Perceptron, точность : 0.5925925925925926\n",
      "[0 1 0 0 1 1 0 1 1 1 1 0 1 1 1 0 1 1 1 1 0 0 0 1 1 1 0 1 1 0 1 1 0 0 0 1 0\n",
      " 1 1 0 0 1 0 0 1 1 0 1 0 1 0 1 1 1]\n",
      "Классификатор:LogisticRegression, точность : 0.8703703703703703\n",
      "[0 0 0 0 2 2 0 0 1 1 0 0 2 1 1 0 1 0 1 0 0 0 0 1 1 1 0 1 2 0 1 1 0 0 2 2 0\n",
      " 2 2 1 1 2 2 0 2 1 0 2 0 1 0 1 0 0]\n",
      "Классификатор:KNeighborsClassifier, точность : 0.7592592592592593\n",
      "[0 1 0 0 2 1 0 2 0 0 2 0 2 1 2 0 1 2 2 2 0 0 0 1 1 1 0 2 2 0 1 2 0 0 2 0 0\n",
      " 2 2 2 1 1 2 0 1 1 0 2 0 1 0 1 2 0]\n",
      "Классификатор:DecisionTreeClassifier, точность : 0.9259259259259259\n",
      "[0 1 0 0 2 2 0 0 1 1 0 0 2 1 2 0 1 1 1 0 0 0 1 1 1 1 0 2 2 0 1 1 0 0 2 2 0\n",
      " 2 2 0 1 2 2 0 2 1 0 2 0 1 0 1 1 0]\n"
     ]
    },
    {
     "name": "stderr",
     "output_type": "stream",
     "text": [
      "C:\\Users\\rume7\\anaconda3\\lib\\site-packages\\sklearn\\linear_model\\_logistic.py:762: ConvergenceWarning: lbfgs failed to converge (status=1):\n",
      "STOP: TOTAL NO. of ITERATIONS REACHED LIMIT.\n",
      "\n",
      "Increase the number of iterations (max_iter) or scale the data as shown in:\n",
      "    https://scikit-learn.org/stable/modules/preprocessing.html\n",
      "Please also refer to the documentation for alternative solver options:\n",
      "    https://scikit-learn.org/stable/modules/linear_model.html#logistic-regression\n",
      "  n_iter_i = _check_optimize_result(\n"
     ]
    }
   ],
   "source": [
    "#4.1\n",
    "\n",
    "for i in range(len(MC)):\n",
    "    clr = MC[i]\n",
    "    clr.fit(X_train, y_train)\n",
    "    y_pred = clr.predict(X_test)\n",
    "    \n",
    "    print('Классификатор:{0}, точность : {1}'.format(clr.__class__.__name__, accuracy_score(y_test, y_pred)))\n",
    "    print(y_pred)"
   ]
  },
  {
   "cell_type": "code",
   "execution_count": 6,
   "metadata": {},
   "outputs": [
    {
     "name": "stdout",
     "output_type": "stream",
     "text": [
      "Классификатор:Perceptron, точность : 0.9259259259259259\n",
      "[0 0 0 0 2 2 0 0 1 1 0 0 2 1 2 0 1 0 1 0 0 0 1 1 1 1 0 2 2 0 1 0 0 0 2 2 0\n",
      " 2 2 1 1 1 2 0 2 1 0 2 0 1 0 1 0 0]\n",
      "Классификатор:LogisticRegression, точность : 0.9814814814814815\n",
      "[0 1 0 0 2 2 0 0 1 1 0 0 2 1 2 0 1 0 1 0 0 0 1 1 1 1 0 2 2 0 1 1 0 0 2 2 0\n",
      " 2 2 1 1 1 2 0 2 1 0 2 0 1 0 1 1 0]\n",
      "Классификатор:KNeighborsClassifier, точность : 0.9629629629629629\n",
      "[0 0 0 0 2 2 0 0 0 0 0 0 2 1 2 0 1 0 1 0 0 0 1 1 1 1 0 2 2 0 1 1 0 0 2 2 0\n",
      " 2 2 1 1 1 2 0 2 1 0 2 0 1 0 1 1 0]\n",
      "Классификатор:DecisionTreeClassifier, точность : 0.9259259259259259\n",
      "[0 1 0 0 2 2 0 0 1 1 0 0 2 1 2 0 1 1 1 0 0 0 1 1 1 1 0 2 2 0 1 1 0 0 2 2 0\n",
      " 2 2 0 1 2 2 0 2 1 0 2 0 1 0 1 1 0]\n"
     ]
    }
   ],
   "source": [
    "#4.2\n",
    "for i in range(len(MC)):\n",
    "    clr = MC[i]\n",
    "    clr.fit(minmaxscaled_X_train, y_train)\n",
    "    y_pred = clr.predict(minmaxscaled_X_test)\n",
    "    \n",
    "    print('Классификатор:{0}, точность : {1}'.format(clr.__class__.__name__, accuracy_score(y_test, y_pred)))\n",
    "    print(y_pred)"
   ]
  },
  {
   "cell_type": "code",
   "execution_count": 7,
   "metadata": {},
   "outputs": [
    {
     "name": "stdout",
     "output_type": "stream",
     "text": [
      "Классификатор:Perceptron, точность : 1.0\n",
      "[0 1 0 0 2 2 0 0 1 0 0 0 2 1 2 0 1 0 1 0 0 0 1 1 1 1 0 2 2 0 1 1 0 0 2 2 0\n",
      " 2 2 1 1 1 2 0 2 1 0 2 0 1 0 1 1 0]\n",
      "Классификатор:LogisticRegression, точность : 0.9814814814814815\n",
      "[0 1 0 0 2 2 0 0 1 1 0 0 2 1 2 0 1 0 1 0 0 0 1 1 1 1 0 2 2 0 1 1 0 0 2 2 0\n",
      " 2 2 1 1 1 2 0 2 1 0 2 0 1 0 1 1 0]\n",
      "Классификатор:KNeighborsClassifier, точность : 0.9814814814814815\n",
      "[0 1 0 0 2 2 0 0 1 0 0 0 2 1 2 0 1 0 1 0 0 0 1 1 1 1 0 2 2 0 1 1 0 0 2 2 0\n",
      " 2 2 1 1 1 2 0 2 1 0 2 0 1 0 1 0 0]\n",
      "Классификатор:DecisionTreeClassifier, точность : 0.9259259259259259\n",
      "[0 1 0 0 2 2 0 0 1 1 0 0 2 1 2 0 1 1 1 0 0 0 1 1 1 1 0 2 2 0 1 1 0 0 2 2 0\n",
      " 2 2 0 1 2 2 0 2 1 0 2 0 1 0 1 1 0]\n"
     ]
    }
   ],
   "source": [
    "#4.3\n",
    "for i in range(len(MC)):\n",
    "    clr = MC[i]\n",
    "    clr.fit(scaled_X_train, y_train)\n",
    "    y_pred = clr.predict(scaled_X_test)\n",
    "    \n",
    "    print('Классификатор:{0}, точность : {1}'.format(clr.__class__.__name__, accuracy_score(y_test, y_pred)))\n",
    "    print(y_pred)"
   ]
  },
  {
   "cell_type": "markdown",
   "metadata": {},
   "source": [
    "Ответить на вопросы:\n",
    "1. В каком случае (StandatdScaler/MinMaxScaler/без масштабирования) алгоритмы показали лучший результат?\n",
    "\n",
    "Ответ: <font color='green'>...</font>\n",
    "\n",
    "2. Как повлияло масштабирование признаков на результаты работы DecisionTreeClassifier?\n",
    "\n",
    "Ответ: <font color='green'>...</font>"
   ]
  },
  {
   "cell_type": "code",
   "execution_count": 8,
   "metadata": {},
   "outputs": [],
   "source": [
    "#1. StandatdScaler показал самый лучший результат с классификатором Perceptron\n",
    "# MinMaxScaler показал лучший результат с классификатором LogisticRegression\n",
    "# Из алгоримов без масштабирования лучший результат DecisionTreeClassifier\n",
    "\n",
    "#2. На результаты не повлияло"
   ]
  },
  {
   "cell_type": "markdown",
   "metadata": {},
   "source": [
    "Для классификатора `LogisticRegression` сделать конвейер с лучшим алгоритмом масштабирования, полученным в предыдущем задании. Обучить конвейер на тренировочных данных, сделать предсказания с помощью конвейера, оценить точность на тестовых данных.\n",
    "Из конвейера получить натренированный классификатор (`pipline.steps[0]` вернет `tuple` с масштабирующим классом, `pipline.steps[1]` вернет `tuple` с классификатором, откуда можно получить классификатор)"
   ]
  },
  {
   "cell_type": "code",
   "execution_count": 9,
   "metadata": {},
   "outputs": [
    {
     "name": "stdout",
     "output_type": "stream",
     "text": [
      "0.9814814814814815\n",
      "('scaler', MinMaxScaler())\n",
      "('LR', LogisticRegression())\n"
     ]
    }
   ],
   "source": [
    "\n",
    "pipe = Pipeline([('scaler', MinMaxScaler()), ('LR', MC[1])])\n",
    "\n",
    "pipe.fit(X_train, y_train)\n",
    "y_pred=pipe.predict(X_test)\n",
    "print(accuracy_score(y_test, y_pred))\n",
    "#print(pipe.score(X_test, y_test))\n",
    "\n",
    "print(pipe.steps[0])\n",
    "print(pipe.steps[1])"
   ]
  },
  {
   "cell_type": "markdown",
   "metadata": {},
   "source": [
    "Отобразить коэффициенты весов `w` разделяющих классы гиперплоскостей (3 массива весов, которые отделяют каждый класс от двух других)"
   ]
  },
  {
   "cell_type": "code",
   "execution_count": 10,
   "metadata": {},
   "outputs": [],
   "source": [
    "W=pipe.steps[1][1].coef_"
   ]
  },
  {
   "cell_type": "code",
   "execution_count": 11,
   "metadata": {},
   "outputs": [],
   "source": [
    "names = np.array(['Алкоголь','Яблочная кислота','Зола','Щелочность золы','Магнезия',\n",
    "                  'Общее содержание фенолов', 'Флаваноиды', 'Нефлаваноидные фенолы', \n",
    "                  'Проантоцианины', 'Интенсивность цвета', 'Оттенок', \n",
    "                  'OD280 / OD315 разбавленных (разведенных) вин', 'Пролин'])"
   ]
  },
  {
   "cell_type": "markdown",
   "metadata": {},
   "source": [
    "По коэффициентам весов `w` классификатора  определить, какие из признаков наиболее значимы (имеют абсолютное значение больше единицы). <b>Важно:</b> для отбора признаков использовать возможности библиотеки NumPy (см. lection_2_numpy_start)"
   ]
  },
  {
   "cell_type": "code",
   "execution_count": 12,
   "metadata": {},
   "outputs": [],
   "source": [
    "c1=np.abs(W)>1"
   ]
  },
  {
   "cell_type": "code",
   "execution_count": 13,
   "metadata": {},
   "outputs": [
    {
     "data": {
      "text/plain": [
       "array(['Алкоголь', 'Щелочность золы', 'Флаваноиды',\n",
       "       'OD280 / OD315 разбавленных (разведенных) вин', 'Пролин'],\n",
       "      dtype='<U44')"
      ]
     },
     "execution_count": 13,
     "metadata": {},
     "output_type": "execute_result"
    }
   ],
   "source": [
    "names[c1[0]]"
   ]
  },
  {
   "cell_type": "code",
   "execution_count": 14,
   "metadata": {},
   "outputs": [
    {
     "data": {
      "text/plain": [
       "array(['Алкоголь', 'Интенсивность цвета', 'Пролин'], dtype='<U44')"
      ]
     },
     "execution_count": 14,
     "metadata": {},
     "output_type": "execute_result"
    }
   ],
   "source": [
    "names[c1[1]]"
   ]
  },
  {
   "cell_type": "code",
   "execution_count": 15,
   "metadata": {},
   "outputs": [
    {
     "data": {
      "text/plain": [
       "array(['Флаваноиды', 'Интенсивность цвета', 'Оттенок',\n",
       "       'OD280 / OD315 разбавленных (разведенных) вин'], dtype='<U44')"
      ]
     },
     "execution_count": 15,
     "metadata": {},
     "output_type": "execute_result"
    }
   ],
   "source": [
    "names[c1[2]]"
   ]
  },
  {
   "cell_type": "code",
   "execution_count": null,
   "metadata": {},
   "outputs": [],
   "source": []
  }
 ],
 "metadata": {
  "kernelspec": {
   "display_name": "Python 3",
   "language": "python",
   "name": "python3"
  },
  "language_info": {
   "codemirror_mode": {
    "name": "ipython",
    "version": 3
   },
   "file_extension": ".py",
   "mimetype": "text/x-python",
   "name": "python",
   "nbconvert_exporter": "python",
   "pygments_lexer": "ipython3",
   "version": "3.8.5"
  }
 },
 "nbformat": 4,
 "nbformat_minor": 2
}
